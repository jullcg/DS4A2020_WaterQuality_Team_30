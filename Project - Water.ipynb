{
 "cells": [
  {
   "cell_type": "markdown",
   "metadata": {},
   "source": [
    "# Relationship between water quality and money in the US: A data analytics approach\n",
    "****"
   ]
  },
  {
   "cell_type": "markdown",
   "metadata": {},
   "source": [
    "## Recognizing, describing and cleaning the data"
   ]
  },
  {
   "cell_type": "markdown",
   "metadata": {},
   "source": [
    "###### i. First things first: Import libraries of interest."
   ]
  },
  {
   "cell_type": "code",
   "execution_count": 27,
   "metadata": {},
   "outputs": [],
   "source": [
    "import pandas as pd\n",
    "import numpy as np"
   ]
  },
  {
   "cell_type": "markdown",
   "metadata": {},
   "source": [
    "###### ii. Useful documentation:\n",
    "* <a href=\"https://www.earthdatascience.org/courses/intro-to-earth-data-science/file-formats/use-text-files/format-text-with-markdown-jupyter-notebook/\" target=\"_blank\">Format Text In Jupyter Notebook</a>\n",
    "* <a href=\"https://stackoverflow.com/questions/8924173/how-do-i-print-bold-text-in-python\" target=\"_blank\">How do I print bold text in Python?</a>\n"
   ]
  },
  {
   "cell_type": "markdown",
   "metadata": {},
   "source": [
    "****\n",
    "### I. Chemicals Data Set"
   ]
  },
  {
   "cell_type": "code",
   "execution_count": 9,
   "metadata": {},
   "outputs": [
    {
     "data": {
      "text/html": [
       "<div>\n",
       "<style scoped>\n",
       "    .dataframe tbody tr th:only-of-type {\n",
       "        vertical-align: middle;\n",
       "    }\n",
       "\n",
       "    .dataframe tbody tr th {\n",
       "        vertical-align: top;\n",
       "    }\n",
       "\n",
       "    .dataframe thead th {\n",
       "        text-align: right;\n",
       "    }\n",
       "</style>\n",
       "<table border=\"1\" class=\"dataframe\">\n",
       "  <thead>\n",
       "    <tr style=\"text-align: right;\">\n",
       "      <th></th>\n",
       "      <th>cws_name</th>\n",
       "      <th>chemical_species</th>\n",
       "      <th>contaminant_level</th>\n",
       "      <th>county</th>\n",
       "      <th>pws_id</th>\n",
       "      <th>pop_served</th>\n",
       "      <th>state</th>\n",
       "      <th>unit_measurement</th>\n",
       "      <th>value</th>\n",
       "      <th>year</th>\n",
       "      <th>fips</th>\n",
       "      <th>state_fips</th>\n",
       "    </tr>\n",
       "  </thead>\n",
       "  <tbody>\n",
       "    <tr>\n",
       "      <th>0</th>\n",
       "      <td>CALIFORNIA WATER SERVICE - LIVERMORE</td>\n",
       "      <td>Uranium</td>\n",
       "      <td>Less than or equal MCL</td>\n",
       "      <td>Alameda</td>\n",
       "      <td>CA0110003</td>\n",
       "      <td>57200</td>\n",
       "      <td>California</td>\n",
       "      <td>micrograms/L</td>\n",
       "      <td>1.54</td>\n",
       "      <td>2000</td>\n",
       "      <td>6001</td>\n",
       "      <td>6</td>\n",
       "    </tr>\n",
       "    <tr>\n",
       "      <th>1</th>\n",
       "      <td>CITY OF LIVERMORE</td>\n",
       "      <td>Uranium</td>\n",
       "      <td>Less than or equal MCL</td>\n",
       "      <td>Alameda</td>\n",
       "      <td>CA0110011</td>\n",
       "      <td>26400</td>\n",
       "      <td>California</td>\n",
       "      <td>micrograms/L</td>\n",
       "      <td>1.64</td>\n",
       "      <td>2000</td>\n",
       "      <td>6001</td>\n",
       "      <td>6</td>\n",
       "    </tr>\n",
       "    <tr>\n",
       "      <th>2</th>\n",
       "      <td>CITY OF PLEASANTON</td>\n",
       "      <td>Uranium</td>\n",
       "      <td>Less than or equal MCL</td>\n",
       "      <td>Alameda</td>\n",
       "      <td>CA0110008</td>\n",
       "      <td>70600</td>\n",
       "      <td>California</td>\n",
       "      <td>micrograms/L</td>\n",
       "      <td>1.64</td>\n",
       "      <td>2000</td>\n",
       "      <td>6001</td>\n",
       "      <td>6</td>\n",
       "    </tr>\n",
       "    <tr>\n",
       "      <th>3</th>\n",
       "      <td>DUBLIN SAN RAMON SERVICES DISTRICT</td>\n",
       "      <td>Uranium</td>\n",
       "      <td>Less than or equal MCL</td>\n",
       "      <td>Alameda</td>\n",
       "      <td>CA0110009</td>\n",
       "      <td>72500</td>\n",
       "      <td>California</td>\n",
       "      <td>micrograms/L</td>\n",
       "      <td>1.64</td>\n",
       "      <td>2000</td>\n",
       "      <td>6001</td>\n",
       "      <td>6</td>\n",
       "    </tr>\n",
       "    <tr>\n",
       "      <th>4</th>\n",
       "      <td>NORRIS CANYON PROPERTY OWNERS ASSN</td>\n",
       "      <td>Uranium</td>\n",
       "      <td>Less than or equal MCL</td>\n",
       "      <td>Alameda</td>\n",
       "      <td>CA0103040</td>\n",
       "      <td>100</td>\n",
       "      <td>California</td>\n",
       "      <td>micrograms/L</td>\n",
       "      <td>4.51</td>\n",
       "      <td>2000</td>\n",
       "      <td>6001</td>\n",
       "      <td>6</td>\n",
       "    </tr>\n",
       "    <tr>\n",
       "      <th>882314</th>\n",
       "      <td>NEKOOSA WATERWORKS</td>\n",
       "      <td>Trihalomethane</td>\n",
       "      <td>Less than or equal MCL</td>\n",
       "      <td>Wood</td>\n",
       "      <td>WI7720169</td>\n",
       "      <td>2557</td>\n",
       "      <td>Wisconsin</td>\n",
       "      <td>micrograms/L</td>\n",
       "      <td>19.70</td>\n",
       "      <td>2016</td>\n",
       "      <td>55141</td>\n",
       "      <td>55</td>\n",
       "    </tr>\n",
       "    <tr>\n",
       "      <th>882315</th>\n",
       "      <td>PITTSVILLE WATERWORKS</td>\n",
       "      <td>Trihalomethane</td>\n",
       "      <td>Less than or equal MCL</td>\n",
       "      <td>Wood</td>\n",
       "      <td>WI7720112</td>\n",
       "      <td>838</td>\n",
       "      <td>Wisconsin</td>\n",
       "      <td>micrograms/L</td>\n",
       "      <td>31.48</td>\n",
       "      <td>2016</td>\n",
       "      <td>55141</td>\n",
       "      <td>55</td>\n",
       "    </tr>\n",
       "    <tr>\n",
       "      <th>882316</th>\n",
       "      <td>PORT EDWARDS WATERWORKS</td>\n",
       "      <td>Trihalomethane</td>\n",
       "      <td>Less than or equal MCL</td>\n",
       "      <td>Wood</td>\n",
       "      <td>WI7720113</td>\n",
       "      <td>1866</td>\n",
       "      <td>Wisconsin</td>\n",
       "      <td>micrograms/L</td>\n",
       "      <td>4.70</td>\n",
       "      <td>2016</td>\n",
       "      <td>55141</td>\n",
       "      <td>55</td>\n",
       "    </tr>\n",
       "    <tr>\n",
       "      <th>882317</th>\n",
       "      <td>VESPER WATERWORKS</td>\n",
       "      <td>Trihalomethane</td>\n",
       "      <td>Less than or equal MCL</td>\n",
       "      <td>Wood</td>\n",
       "      <td>WI7720134</td>\n",
       "      <td>641</td>\n",
       "      <td>Wisconsin</td>\n",
       "      <td>micrograms/L</td>\n",
       "      <td>68.90</td>\n",
       "      <td>2016</td>\n",
       "      <td>55141</td>\n",
       "      <td>55</td>\n",
       "    </tr>\n",
       "    <tr>\n",
       "      <th>882318</th>\n",
       "      <td>WIS RAPIDS WATER WORKS &amp; LIGHTING COMM</td>\n",
       "      <td>Trihalomethane</td>\n",
       "      <td>Less than or equal MCL</td>\n",
       "      <td>Wood</td>\n",
       "      <td>WI7720108</td>\n",
       "      <td>20000</td>\n",
       "      <td>Wisconsin</td>\n",
       "      <td>micrograms/L</td>\n",
       "      <td>53.46</td>\n",
       "      <td>2016</td>\n",
       "      <td>55141</td>\n",
       "      <td>55</td>\n",
       "    </tr>\n",
       "  </tbody>\n",
       "</table>\n",
       "</div>"
      ],
      "text/plain": [
       "                                      cws_name chemical_species  \\\n",
       "0         CALIFORNIA WATER SERVICE - LIVERMORE          Uranium   \n",
       "1                            CITY OF LIVERMORE          Uranium   \n",
       "2                           CITY OF PLEASANTON          Uranium   \n",
       "3           DUBLIN SAN RAMON SERVICES DISTRICT          Uranium   \n",
       "4           NORRIS CANYON PROPERTY OWNERS ASSN          Uranium   \n",
       "882314                      NEKOOSA WATERWORKS   Trihalomethane   \n",
       "882315                   PITTSVILLE WATERWORKS   Trihalomethane   \n",
       "882316                 PORT EDWARDS WATERWORKS   Trihalomethane   \n",
       "882317                       VESPER WATERWORKS   Trihalomethane   \n",
       "882318  WIS RAPIDS WATER WORKS & LIGHTING COMM   Trihalomethane   \n",
       "\n",
       "             contaminant_level   county     pws_id  pop_served       state  \\\n",
       "0       Less than or equal MCL  Alameda  CA0110003       57200  California   \n",
       "1       Less than or equal MCL  Alameda  CA0110011       26400  California   \n",
       "2       Less than or equal MCL  Alameda  CA0110008       70600  California   \n",
       "3       Less than or equal MCL  Alameda  CA0110009       72500  California   \n",
       "4       Less than or equal MCL  Alameda  CA0103040         100  California   \n",
       "882314  Less than or equal MCL     Wood  WI7720169        2557   Wisconsin   \n",
       "882315  Less than or equal MCL     Wood  WI7720112         838   Wisconsin   \n",
       "882316  Less than or equal MCL     Wood  WI7720113        1866   Wisconsin   \n",
       "882317  Less than or equal MCL     Wood  WI7720134         641   Wisconsin   \n",
       "882318  Less than or equal MCL     Wood  WI7720108       20000   Wisconsin   \n",
       "\n",
       "       unit_measurement  value  year   fips  state_fips  \n",
       "0          micrograms/L   1.54  2000   6001           6  \n",
       "1          micrograms/L   1.64  2000   6001           6  \n",
       "2          micrograms/L   1.64  2000   6001           6  \n",
       "3          micrograms/L   1.64  2000   6001           6  \n",
       "4          micrograms/L   4.51  2000   6001           6  \n",
       "882314     micrograms/L  19.70  2016  55141          55  \n",
       "882315     micrograms/L  31.48  2016  55141          55  \n",
       "882316     micrograms/L   4.70  2016  55141          55  \n",
       "882317     micrograms/L  68.90  2016  55141          55  \n",
       "882318     micrograms/L  53.46  2016  55141          55  "
      ]
     },
     "execution_count": 9,
     "metadata": {},
     "output_type": "execute_result"
    }
   ],
   "source": [
    "#Load Chemicals and preview\n",
    "df_chemicals = pd.read_csv(\"datasets/chemicals.csv\")\n",
    "df_chemicals.head(5).append(df_chemicals.tail(5))"
   ]
  },
  {
   "cell_type": "markdown",
   "metadata": {},
   "source": [
    "****\n",
    "### a) Recognizing variables and checking for null observations"
   ]
  },
  {
   "cell_type": "code",
   "execution_count": 26,
   "metadata": {},
   "outputs": [
    {
     "name": "stdout",
     "output_type": "stream",
     "text": [
      "<class 'pandas.core.frame.DataFrame'>\n",
      "RangeIndex: 882319 entries, 0 to 882318\n",
      "Data columns (total 12 columns):\n",
      " #   Column             Non-Null Count   Dtype  \n",
      "---  ------             --------------   -----  \n",
      " 0   cws_name           882319 non-null  object \n",
      " 1   chemical_species   882319 non-null  object \n",
      " 2   contaminant_level  882319 non-null  object \n",
      " 3   county             882319 non-null  object \n",
      " 4   pws_id             882319 non-null  object \n",
      " 5   pop_served         882319 non-null  int64  \n",
      " 6   state              882319 non-null  object \n",
      " 7   unit_measurement   882319 non-null  object \n",
      " 8   value              882319 non-null  float64\n",
      " 9   year               882319 non-null  int64  \n",
      " 10  fips               882319 non-null  int64  \n",
      " 11  state_fips         882319 non-null  int64  \n",
      "dtypes: float64(1), int64(4), object(7)\n",
      "memory usage: 80.8+ MB\n",
      "None\n",
      "\n",
      "cws_name             False\n",
      "chemical_species     False\n",
      "contaminant_level    False\n",
      "county               False\n",
      "pws_id               False\n",
      "pop_served           False\n",
      "state                False\n",
      "unit_measurement     False\n",
      "value                False\n",
      "year                 False\n",
      "fips                 False\n",
      "state_fips           False\n",
      "dtype: bool\n"
     ]
    }
   ],
   "source": [
    "#Recognition of the variables available\n",
    "print(df_chemicals.info())\n",
    "print()\n",
    "\n",
    "#Null observations checking.\n",
    "print(df_chemicals.isnull().any())"
   ]
  },
  {
   "cell_type": "markdown",
   "metadata": {},
   "source": [
    "##### Conclusions:\n",
    "* Every record is complete.\n",
    "* There's not null data we need to handle.\n",
    "* We must know what information is present inside each variable.\n",
    "****"
   ]
  },
  {
   "cell_type": "markdown",
   "metadata": {},
   "source": [
    "### b) Recognizing observations per variable of interest"
   ]
  },
  {
   "cell_type": "markdown",
   "metadata": {},
   "source": [
    "#### VARIABLE TYPE: STRING"
   ]
  },
  {
   "cell_type": "markdown",
   "metadata": {},
   "source": [
    "#### 1. 'chemical_species'"
   ]
  },
  {
   "cell_type": "code",
   "execution_count": 33,
   "metadata": {},
   "outputs": [
    {
     "data": {
      "text/plain": [
       "['Uranium',\n",
       " 'Arsenic',\n",
       " 'DEHP',\n",
       " 'Nitrates',\n",
       " 'Halo-Acetic Acid',\n",
       " 'Trihalomethane']"
      ]
     },
     "execution_count": 33,
     "metadata": {},
     "output_type": "execute_result"
    }
   ],
   "source": [
    "list(df_chemicals['chemical_species'].unique())"
   ]
  },
  {
   "cell_type": "markdown",
   "metadata": {},
   "source": [
    "##### Conclusions:\n",
    "* The span of our data is 6 contaminants we don't know much about."
   ]
  },
  {
   "cell_type": "markdown",
   "metadata": {},
   "source": [
    "***\n",
    "<ul><h5> General description and industry-usage of this chemicals</h5></ul>\n",
    "\n",
    "<b>Uranium:</b>\n",
    "\n",
    "<b>Arsenic:</b>\n",
    "\n",
    "<b>DEHP (<a href=\"https://en.wikipedia.org/wiki/Bis(2-ethylhexyl)_phthalate\" target=\"_blank\">source</a>):</ul></b>\n",
    "* Organic compound\n",
    "* Colorless viscous liquid soluble in oil, but not in water.\n",
    "<ul><b>Industry Uses:</b></ul>\n",
    "* Due to its suitable properties and the low cost, DEHP is widely used as a plasticizer in manufacturing of articles made of *PVC*. *PVC* is used extensively in *sewage pipe* due to its low cost, chemical resistance, and ease of jointing.\n",
    "* *Plastics* may contain 1% to 40% of DEHP.\n",
    "* Used as a *hydraulic fluid* and as a dielectric fluid in *capacitors*.\n",
    "* Use as a solvent in *glowsticks*.\n",
    "* DEHP is a component of *many household items*, including tablecloths, floor tiles, shower curtains, garden hoses, rainwear, dolls, toys, shoes, medical tubing, furniture upholstery, and swimming pool liners.\n",
    "*  Common exposures come from the use of DEHP as a fragrance carrier in cosmetics, personal care products, laundry detergents, colognes, scented candles, and air fresheners.\n",
    "* **DEHP can leach into drinking water from discharges from rubber and chemical factories**\n",
    "\n",
    "\n",
    "<b>Nitrates:</b>\n",
    "\n",
    "<b>Halo-Acetic Acid:</b>\n",
    "\n",
    "<b>Trihalomethane:</b>"
   ]
  },
  {
   "cell_type": "markdown",
   "metadata": {},
   "source": [
    "***\n",
    "#### 2. 'contaminant_level'"
   ]
  },
  {
   "cell_type": "code",
   "execution_count": 34,
   "metadata": {},
   "outputs": [
    {
     "data": {
      "text/plain": [
       "['Less than or equal MCL', 'Non Detect', 'Greater than MCL']"
      ]
     },
     "execution_count": 34,
     "metadata": {},
     "output_type": "execute_result"
    }
   ],
   "source": [
    "list(df_chemicals['contaminant_level'].unique())"
   ]
  },
  {
   "cell_type": "markdown",
   "metadata": {},
   "source": [
    "##### Conclusions:\n",
    "* Span of 3 possible categories.\n",
    "* *MCL* stands for *Maximum Contaminant Level*"
   ]
  },
  {
   "cell_type": "markdown",
   "metadata": {},
   "source": [
    "***\n",
    "#### 3. 'state' and 'state_fips'"
   ]
  },
  {
   "cell_type": "code",
   "execution_count": 158,
   "metadata": {},
   "outputs": [
    {
     "name": "stdout",
     "output_type": "stream",
     "text": [
      "\u001b[1m We have 27 State names and 27 State codes for those names.\n"
     ]
    }
   ],
   "source": [
    "#Have the names of the States a unique 'state_fips' code?\n",
    "len_county=len(df_chemicals['state'].unique())\n",
    "len_fips=len(df_chemicals['state_fips'].unique())\n",
    "print('\\033[1m We have {0:.0f} State names and {1:.0f} State codes for those names.'.format(len_county,len_fips))"
   ]
  },
  {
   "cell_type": "markdown",
   "metadata": {},
   "source": [
    "##### Conclusions:\n",
    "* We have 27 county names and 27 county codes for those names\n",
    "* We can use the name or the fips code for States."
   ]
  },
  {
   "cell_type": "markdown",
   "metadata": {},
   "source": [
    "***\n",
    "#### 4. 'county' and 'fips'"
   ]
  },
  {
   "cell_type": "code",
   "execution_count": 162,
   "metadata": {},
   "outputs": [
    {
     "name": "stdout",
     "output_type": "stream",
     "text": [
      "\u001b[1m *We have 1045 County names and 1500 County codes for those names.\n",
      "\n",
      "\u001b[1m **Are there County names that have more than 1 fips code?\n"
     ]
    }
   ],
   "source": [
    "#Have the names of the Counties a unique 'fips' code?\n",
    "len_county=len(df_chemicals['county'].unique())\n",
    "len_fips=len(df_chemicals['fips'].unique())\n",
    "print('\\033[1m *We have {0:.0f} County names and {1:.0f} County codes for those names.\\n'.format(len_county,len_fips))\n",
    "print('\\033[1m **Are there County names that have more than 1 fips code?')"
   ]
  },
  {
   "cell_type": "code",
   "execution_count": 163,
   "metadata": {},
   "outputs": [
    {
     "data": {
      "text/html": [
       "<div>\n",
       "<style scoped>\n",
       "    .dataframe tbody tr th:only-of-type {\n",
       "        vertical-align: middle;\n",
       "    }\n",
       "\n",
       "    .dataframe tbody tr th {\n",
       "        vertical-align: top;\n",
       "    }\n",
       "\n",
       "    .dataframe thead th {\n",
       "        text-align: right;\n",
       "    }\n",
       "</style>\n",
       "<table border=\"1\" class=\"dataframe\">\n",
       "  <thead>\n",
       "    <tr style=\"text-align: right;\">\n",
       "      <th></th>\n",
       "      <th>county</th>\n",
       "      <th>fips</th>\n",
       "      <th>state</th>\n",
       "      <th>state_fips</th>\n",
       "    </tr>\n",
       "  </thead>\n",
       "  <tbody>\n",
       "    <tr>\n",
       "      <th>0</th>\n",
       "      <td>Alameda</td>\n",
       "      <td>6001</td>\n",
       "      <td>California</td>\n",
       "      <td>6</td>\n",
       "    </tr>\n",
       "    <tr>\n",
       "      <th>89</th>\n",
       "      <td>Alpine</td>\n",
       "      <td>6003</td>\n",
       "      <td>California</td>\n",
       "      <td>6</td>\n",
       "    </tr>\n",
       "    <tr>\n",
       "      <th>101</th>\n",
       "      <td>Amador</td>\n",
       "      <td>6005</td>\n",
       "      <td>California</td>\n",
       "      <td>6</td>\n",
       "    </tr>\n",
       "    <tr>\n",
       "      <th>140</th>\n",
       "      <td>Butte</td>\n",
       "      <td>6007</td>\n",
       "      <td>California</td>\n",
       "      <td>6</td>\n",
       "    </tr>\n",
       "    <tr>\n",
       "      <th>329</th>\n",
       "      <td>Calaveras</td>\n",
       "      <td>6009</td>\n",
       "      <td>California</td>\n",
       "      <td>6</td>\n",
       "    </tr>\n",
       "    <tr>\n",
       "      <th>...</th>\n",
       "      <td>...</td>\n",
       "      <td>...</td>\n",
       "      <td>...</td>\n",
       "      <td>...</td>\n",
       "    </tr>\n",
       "    <tr>\n",
       "      <th>639435</th>\n",
       "      <td>Van Buren</td>\n",
       "      <td>26159</td>\n",
       "      <td>Michigan</td>\n",
       "      <td>26</td>\n",
       "    </tr>\n",
       "    <tr>\n",
       "      <th>639466</th>\n",
       "      <td>Washtenaw</td>\n",
       "      <td>26161</td>\n",
       "      <td>Michigan</td>\n",
       "      <td>26</td>\n",
       "    </tr>\n",
       "    <tr>\n",
       "      <th>639541</th>\n",
       "      <td>Wayne</td>\n",
       "      <td>26163</td>\n",
       "      <td>Michigan</td>\n",
       "      <td>26</td>\n",
       "    </tr>\n",
       "    <tr>\n",
       "      <th>639756</th>\n",
       "      <td>Wexford</td>\n",
       "      <td>26165</td>\n",
       "      <td>Michigan</td>\n",
       "      <td>26</td>\n",
       "    </tr>\n",
       "    <tr>\n",
       "      <th>651627</th>\n",
       "      <td>Ralls</td>\n",
       "      <td>29173</td>\n",
       "      <td>Missouri</td>\n",
       "      <td>29</td>\n",
       "    </tr>\n",
       "  </tbody>\n",
       "</table>\n",
       "<p>1500 rows × 4 columns</p>\n",
       "</div>"
      ],
      "text/plain": [
       "           county   fips       state  state_fips\n",
       "0         Alameda   6001  California           6\n",
       "89         Alpine   6003  California           6\n",
       "101        Amador   6005  California           6\n",
       "140         Butte   6007  California           6\n",
       "329     Calaveras   6009  California           6\n",
       "...           ...    ...         ...         ...\n",
       "639435  Van Buren  26159    Michigan          26\n",
       "639466  Washtenaw  26161    Michigan          26\n",
       "639541      Wayne  26163    Michigan          26\n",
       "639756    Wexford  26165    Michigan          26\n",
       "651627      Ralls  29173    Missouri          29\n",
       "\n",
       "[1500 rows x 4 columns]"
      ]
     },
     "execution_count": 163,
     "metadata": {},
     "output_type": "execute_result"
    }
   ],
   "source": [
    "#County and State data in one place\n",
    "df_county_fips=pd.concat([df_chemicals['county'],df_chemicals['fips'],df_chemicals['state'],df_chemicals['state_fips']],axis=1).drop_duplicates()\n",
    "df_county_fips"
   ]
  },
  {
   "cell_type": "code",
   "execution_count": 164,
   "metadata": {},
   "outputs": [
    {
     "name": "stdout",
     "output_type": "stream",
     "text": [
      "           n_fips_dupl\n",
      "county                \n",
      "Adair                3\n",
      "Adams                5\n",
      "Allegany             2\n",
      "Allen                3\n",
      "Anderson             3\n",
      "...                ...\n",
      "Worcester            2\n",
      "Worth                2\n",
      "Wright               3\n",
      "Wyoming              3\n",
      "York                 3\n",
      "\n",
      "[190 rows x 1 columns]\n",
      "\n",
      "\u001b[1m *Yes! There are names of Counties that have more than 1 fips code.\n",
      "\n",
      "\u001b[1m **Is it a mistake or could there be Counties with the same name in different States?\n",
      "\u001b[1m   Lets check top and bottom 2.\n"
     ]
    }
   ],
   "source": [
    "dup_counties=df_county_fips.groupby('county').agg({'fips':'count'})\n",
    "dup_counties.rename(columns={'fips':'n_fips_dupl'},inplace=True)\n",
    "print(dup_counties[dup_counties.n_fips_dupl>1])\n",
    "print()\n",
    "print('\\033[1m *Yes! There are names of Counties that have more than 1 fips code.\\n')\n",
    "print('\\033[1m **Is it a mistake or could there be Counties with the same name in different States?')\n",
    "print('\\033[1m   Lets check top and bottom 2.')"
   ]
  },
  {
   "cell_type": "code",
   "execution_count": 89,
   "metadata": {},
   "outputs": [
    {
     "data": {
      "text/html": [
       "<div>\n",
       "<style scoped>\n",
       "    .dataframe tbody tr th:only-of-type {\n",
       "        vertical-align: middle;\n",
       "    }\n",
       "\n",
       "    .dataframe tbody tr th {\n",
       "        vertical-align: top;\n",
       "    }\n",
       "\n",
       "    .dataframe thead th {\n",
       "        text-align: right;\n",
       "    }\n",
       "</style>\n",
       "<table border=\"1\" class=\"dataframe\">\n",
       "  <thead>\n",
       "    <tr style=\"text-align: right;\">\n",
       "      <th></th>\n",
       "      <th>county</th>\n",
       "      <th>fips</th>\n",
       "      <th>state</th>\n",
       "      <th>state_fips</th>\n",
       "    </tr>\n",
       "  </thead>\n",
       "  <tbody>\n",
       "    <tr>\n",
       "      <th>17923</th>\n",
       "      <td>Adair</td>\n",
       "      <td>19001</td>\n",
       "      <td>Iowa</td>\n",
       "      <td>19</td>\n",
       "    </tr>\n",
       "    <tr>\n",
       "      <th>18760</th>\n",
       "      <td>Adair</td>\n",
       "      <td>21001</td>\n",
       "      <td>Kentucky</td>\n",
       "      <td>21</td>\n",
       "    </tr>\n",
       "    <tr>\n",
       "      <th>100892</th>\n",
       "      <td>Adair</td>\n",
       "      <td>29001</td>\n",
       "      <td>Missouri</td>\n",
       "      <td>29</td>\n",
       "    </tr>\n",
       "  </tbody>\n",
       "</table>\n",
       "</div>"
      ],
      "text/plain": [
       "       county   fips     state  state_fips\n",
       "17923   Adair  19001      Iowa          19\n",
       "18760   Adair  21001  Kentucky          21\n",
       "100892  Adair  29001  Missouri          29"
      ]
     },
     "execution_count": 89,
     "metadata": {},
     "output_type": "execute_result"
    }
   ],
   "source": [
    "df_county_fips[df_county_fips.county=='Adair']"
   ]
  },
  {
   "cell_type": "code",
   "execution_count": 90,
   "metadata": {},
   "outputs": [
    {
     "data": {
      "text/html": [
       "<div>\n",
       "<style scoped>\n",
       "    .dataframe tbody tr th:only-of-type {\n",
       "        vertical-align: middle;\n",
       "    }\n",
       "\n",
       "    .dataframe tbody tr th {\n",
       "        vertical-align: top;\n",
       "    }\n",
       "\n",
       "    .dataframe thead th {\n",
       "        text-align: right;\n",
       "    }\n",
       "</style>\n",
       "<table border=\"1\" class=\"dataframe\">\n",
       "  <thead>\n",
       "    <tr style=\"text-align: right;\">\n",
       "      <th></th>\n",
       "      <th>county</th>\n",
       "      <th>fips</th>\n",
       "      <th>state</th>\n",
       "      <th>state_fips</th>\n",
       "    </tr>\n",
       "  </thead>\n",
       "  <tbody>\n",
       "    <tr>\n",
       "      <th>12361</th>\n",
       "      <td>Adams</td>\n",
       "      <td>8001</td>\n",
       "      <td>Colorado</td>\n",
       "      <td>8</td>\n",
       "    </tr>\n",
       "    <tr>\n",
       "      <th>32167</th>\n",
       "      <td>Adams</td>\n",
       "      <td>42001</td>\n",
       "      <td>Pennsylvania</td>\n",
       "      <td>42</td>\n",
       "    </tr>\n",
       "    <tr>\n",
       "      <th>37253</th>\n",
       "      <td>Adams</td>\n",
       "      <td>55001</td>\n",
       "      <td>Wisconsin</td>\n",
       "      <td>55</td>\n",
       "    </tr>\n",
       "    <tr>\n",
       "      <th>74529</th>\n",
       "      <td>Adams</td>\n",
       "      <td>19003</td>\n",
       "      <td>Iowa</td>\n",
       "      <td>19</td>\n",
       "    </tr>\n",
       "    <tr>\n",
       "      <th>160600</th>\n",
       "      <td>Adams</td>\n",
       "      <td>53001</td>\n",
       "      <td>Washington</td>\n",
       "      <td>53</td>\n",
       "    </tr>\n",
       "  </tbody>\n",
       "</table>\n",
       "</div>"
      ],
      "text/plain": [
       "       county   fips         state  state_fips\n",
       "12361   Adams   8001      Colorado           8\n",
       "32167   Adams  42001  Pennsylvania          42\n",
       "37253   Adams  55001     Wisconsin          55\n",
       "74529   Adams  19003          Iowa          19\n",
       "160600  Adams  53001    Washington          53"
      ]
     },
     "execution_count": 90,
     "metadata": {},
     "output_type": "execute_result"
    }
   ],
   "source": [
    "df_county_fips[df_county_fips.county=='Adams']"
   ]
  },
  {
   "cell_type": "code",
   "execution_count": 92,
   "metadata": {},
   "outputs": [
    {
     "data": {
      "text/html": [
       "<div>\n",
       "<style scoped>\n",
       "    .dataframe tbody tr th:only-of-type {\n",
       "        vertical-align: middle;\n",
       "    }\n",
       "\n",
       "    .dataframe tbody tr th {\n",
       "        vertical-align: top;\n",
       "    }\n",
       "\n",
       "    .dataframe thead th {\n",
       "        text-align: right;\n",
       "    }\n",
       "</style>\n",
       "<table border=\"1\" class=\"dataframe\">\n",
       "  <thead>\n",
       "    <tr style=\"text-align: right;\">\n",
       "      <th></th>\n",
       "      <th>county</th>\n",
       "      <th>fips</th>\n",
       "      <th>state</th>\n",
       "      <th>state_fips</th>\n",
       "    </tr>\n",
       "  </thead>\n",
       "  <tbody>\n",
       "    <tr>\n",
       "      <th>28424</th>\n",
       "      <td>Wyoming</td>\n",
       "      <td>36121</td>\n",
       "      <td>New York</td>\n",
       "      <td>36</td>\n",
       "    </tr>\n",
       "    <tr>\n",
       "      <th>35628</th>\n",
       "      <td>Wyoming</td>\n",
       "      <td>42131</td>\n",
       "      <td>Pennsylvania</td>\n",
       "      <td>42</td>\n",
       "    </tr>\n",
       "    <tr>\n",
       "      <th>37252</th>\n",
       "      <td>Wyoming</td>\n",
       "      <td>54109</td>\n",
       "      <td>West Virginia</td>\n",
       "      <td>54</td>\n",
       "    </tr>\n",
       "  </tbody>\n",
       "</table>\n",
       "</div>"
      ],
      "text/plain": [
       "        county   fips          state  state_fips\n",
       "28424  Wyoming  36121       New York          36\n",
       "35628  Wyoming  42131   Pennsylvania          42\n",
       "37252  Wyoming  54109  West Virginia          54"
      ]
     },
     "execution_count": 92,
     "metadata": {},
     "output_type": "execute_result"
    }
   ],
   "source": [
    "df_county_fips[df_county_fips.county=='Wyoming']"
   ]
  },
  {
   "cell_type": "code",
   "execution_count": 91,
   "metadata": {},
   "outputs": [
    {
     "data": {
      "text/html": [
       "<div>\n",
       "<style scoped>\n",
       "    .dataframe tbody tr th:only-of-type {\n",
       "        vertical-align: middle;\n",
       "    }\n",
       "\n",
       "    .dataframe tbody tr th {\n",
       "        vertical-align: top;\n",
       "    }\n",
       "\n",
       "    .dataframe thead th {\n",
       "        text-align: right;\n",
       "    }\n",
       "</style>\n",
       "<table border=\"1\" class=\"dataframe\">\n",
       "  <thead>\n",
       "    <tr style=\"text-align: right;\">\n",
       "      <th></th>\n",
       "      <th>county</th>\n",
       "      <th>fips</th>\n",
       "      <th>state</th>\n",
       "      <th>state_fips</th>\n",
       "    </tr>\n",
       "  </thead>\n",
       "  <tbody>\n",
       "    <tr>\n",
       "      <th>35692</th>\n",
       "      <td>York</td>\n",
       "      <td>42133</td>\n",
       "      <td>Pennsylvania</td>\n",
       "      <td>42</td>\n",
       "    </tr>\n",
       "    <tr>\n",
       "      <th>36149</th>\n",
       "      <td>York</td>\n",
       "      <td>45091</td>\n",
       "      <td>South Carolina</td>\n",
       "      <td>45</td>\n",
       "    </tr>\n",
       "    <tr>\n",
       "      <th>89965</th>\n",
       "      <td>York</td>\n",
       "      <td>23031</td>\n",
       "      <td>Maine</td>\n",
       "      <td>23</td>\n",
       "    </tr>\n",
       "  </tbody>\n",
       "</table>\n",
       "</div>"
      ],
      "text/plain": [
       "      county   fips           state  state_fips\n",
       "35692   York  42133    Pennsylvania          42\n",
       "36149   York  45091  South Carolina          45\n",
       "89965   York  23031           Maine          23"
      ]
     },
     "execution_count": 91,
     "metadata": {},
     "output_type": "execute_result"
    }
   ],
   "source": [
    "df_county_fips[df_county_fips.county=='York']"
   ]
  },
  {
   "cell_type": "markdown",
   "metadata": {},
   "source": [
    "###### Anyway, let's make sure that no name is repeated in a single State."
   ]
  },
  {
   "cell_type": "code",
   "execution_count": 154,
   "metadata": {},
   "outputs": [
    {
     "name": "stdout",
     "output_type": "stream",
     "text": [
      "\u001b[1m *The maximum ammount of times a name of a County belongs to a specific State, in our dataset, is 1.\n"
     ]
    }
   ],
   "source": [
    "df_county_fips=pd.merge(df_county_fips, dup_counties, how='left', left_on='county', right_on='county')\n",
    "dup_counties_states=df_county_fips.groupby(['county','state']).size()\n",
    "dup_counties_states.rename('n_state_fips_dupl',inplace=True)\n",
    "print(\"\\033[1m *The maximum ammount of times a name of a County belongs to a specific State, in our dataset, is {0:.0f}.\".format(dup_counties_states.max()))"
   ]
  },
  {
   "cell_type": "markdown",
   "metadata": {},
   "source": [
    "##### Conclusions:\n",
    "* Fips codes are unique.\n",
    "* There are names of Counties (190) that have more than 1 fips code.\n",
    "* A County name never repeats within a State.\n",
    "* We must use the Counties' code (fips), when studying the information with Counties as a Factor variable."
   ]
  },
  {
   "cell_type": "markdown",
   "metadata": {},
   "source": [
    "***\n",
    "#### 5. 'cws_name' 'pws_id'"
   ]
  },
  {
   "cell_type": "markdown",
   "metadata": {},
   "source": [
    "##### Conclusions:\n",
    "The scope of our study won't be needing this information. For that reason we won't be checking this, as with the Counties."
   ]
  },
  {
   "cell_type": "markdown",
   "metadata": {},
   "source": [
    "***\n",
    "#### 6. 'unit_measurement'"
   ]
  },
  {
   "cell_type": "code",
   "execution_count": 165,
   "metadata": {},
   "outputs": [
    {
     "data": {
      "text/plain": [
       "['micrograms/L', 'milligrams/L']"
      ]
     },
     "execution_count": 165,
     "metadata": {},
     "output_type": "execute_result"
    }
   ],
   "source": [
    "list(df_chemicals['unit_measurement'].unique())"
   ]
  },
  {
   "cell_type": "markdown",
   "metadata": {},
   "source": [
    "#### Conclusions:\n",
    "* Span of 2 possible categories.\n",
    "* Similar nomenclature to be aware when concluding, because *Milli* **>** *Micro*:\n",
    "    * **Micro=** 1*10^-6\n",
    "    * **Milli=** 1*10^-3"
   ]
  },
  {
   "cell_type": "markdown",
   "metadata": {},
   "source": [
    "***\n",
    "#### VARIABLE TYPE: NUMERIC (INTEGER, FLOAT)"
   ]
  },
  {
   "cell_type": "markdown",
   "metadata": {},
   "source": [
    "#### 7. 'pop_served'"
   ]
  },
  {
   "cell_type": "code",
   "execution_count": 178,
   "metadata": {},
   "outputs": [
    {
     "name": "stdout",
     "output_type": "stream",
     "text": [
      "count     882319\n",
      "mean       10731\n",
      "std        95200\n",
      "min            0\n",
      "25%          118\n",
      "50%          485\n",
      "75%         3030\n",
      "max      8271000\n",
      "Name: pop_served, dtype: int64\n"
     ]
    }
   ],
   "source": [
    "print(df_chemicals['pop_served'].describe().astype('int64'))"
   ]
  },
  {
   "cell_type": "markdown",
   "metadata": {},
   "source": [
    "#### 8. 'value'"
   ]
  },
  {
   "cell_type": "code",
   "execution_count": 177,
   "metadata": {},
   "outputs": [
    {
     "name": "stdout",
     "output_type": "stream",
     "text": [
      "count    882319.000000\n",
      "mean          7.434686\n",
      "std          23.677866\n",
      "min           0.000000\n",
      "25%           0.300000\n",
      "50%           1.000000\n",
      "75%           4.600000\n",
      "max        4527.000000\n",
      "Name: value, dtype: float64\n"
     ]
    }
   ],
   "source": [
    "print(df_chemicals['value'].describe())"
   ]
  },
  {
   "cell_type": "markdown",
   "metadata": {},
   "source": [
    "#### 9. 'year'"
   ]
  },
  {
   "cell_type": "code",
   "execution_count": 174,
   "metadata": {},
   "outputs": [
    {
     "name": "stdout",
     "output_type": "stream",
     "text": [
      "count    882319\n",
      "mean       2008\n",
      "std           4\n",
      "min        1999\n",
      "25%        2005\n",
      "50%        2009\n",
      "75%        2013\n",
      "max        2016\n",
      "Name: year, dtype: int64\n"
     ]
    }
   ],
   "source": [
    "print(df_chemicals['year'].describe().astype('int64'))"
   ]
  },
  {
   "cell_type": "markdown",
   "metadata": {},
   "source": [
    "****\n",
    "<h3>Earnings Data Set</h3>"
   ]
  },
  {
   "cell_type": "code",
   "execution_count": 10,
   "metadata": {},
   "outputs": [
    {
     "data": {
      "text/html": [
       "<div>\n",
       "<style scoped>\n",
       "    .dataframe tbody tr th:only-of-type {\n",
       "        vertical-align: middle;\n",
       "    }\n",
       "\n",
       "    .dataframe tbody tr th {\n",
       "        vertical-align: top;\n",
       "    }\n",
       "\n",
       "    .dataframe thead th {\n",
       "        text-align: right;\n",
       "    }\n",
       "</style>\n",
       "<table border=\"1\" class=\"dataframe\">\n",
       "  <thead>\n",
       "    <tr style=\"text-align: right;\">\n",
       "      <th></th>\n",
       "      <th>geo_id</th>\n",
       "      <th>fips</th>\n",
       "      <th>county</th>\n",
       "      <th>total_med</th>\n",
       "      <th>total_agri_fish_mine</th>\n",
       "      <th>agri_fish_hunt</th>\n",
       "      <th>mining_quarrying_oilgas_extract</th>\n",
       "      <th>construction</th>\n",
       "      <th>manufacturing</th>\n",
       "      <th>wholesale_trade</th>\n",
       "      <th>...</th>\n",
       "      <th>admin_sup</th>\n",
       "      <th>total_edu_health_social</th>\n",
       "      <th>edu_serv</th>\n",
       "      <th>health_social</th>\n",
       "      <th>total_arts_ent_acc_food</th>\n",
       "      <th>arts_ent_rec</th>\n",
       "      <th>acc_food_serv</th>\n",
       "      <th>other_ser</th>\n",
       "      <th>pub_admin</th>\n",
       "      <th>year</th>\n",
       "    </tr>\n",
       "  </thead>\n",
       "  <tbody>\n",
       "    <tr>\n",
       "      <th>0</th>\n",
       "      <td>0500000US01001</td>\n",
       "      <td>1001</td>\n",
       "      <td>Autauga County, Alabama</td>\n",
       "      <td>31811</td>\n",
       "      <td>31793</td>\n",
       "      <td>31957</td>\n",
       "      <td>22357</td>\n",
       "      <td>30347</td>\n",
       "      <td>44452</td>\n",
       "      <td>38203</td>\n",
       "      <td>...</td>\n",
       "      <td>31250</td>\n",
       "      <td>30306.0</td>\n",
       "      <td>34358</td>\n",
       "      <td>26839</td>\n",
       "      <td>11231</td>\n",
       "      <td>10272</td>\n",
       "      <td>11430</td>\n",
       "      <td>26279</td>\n",
       "      <td>46858</td>\n",
       "      <td>2010</td>\n",
       "    </tr>\n",
       "    <tr>\n",
       "      <th>1</th>\n",
       "      <td>0500000US01003</td>\n",
       "      <td>1003</td>\n",
       "      <td>Baldwin County, Alabama</td>\n",
       "      <td>30099</td>\n",
       "      <td>33173</td>\n",
       "      <td>27342</td>\n",
       "      <td>80938</td>\n",
       "      <td>30068</td>\n",
       "      <td>41917</td>\n",
       "      <td>43444</td>\n",
       "      <td>...</td>\n",
       "      <td>23910</td>\n",
       "      <td>34506.0</td>\n",
       "      <td>37341</td>\n",
       "      <td>30968</td>\n",
       "      <td>14924</td>\n",
       "      <td>17414</td>\n",
       "      <td>14765</td>\n",
       "      <td>21440</td>\n",
       "      <td>38629</td>\n",
       "      <td>2010</td>\n",
       "    </tr>\n",
       "    <tr>\n",
       "      <th>2</th>\n",
       "      <td>0500000US01005</td>\n",
       "      <td>1005</td>\n",
       "      <td>Barbour County, Alabama</td>\n",
       "      <td>23504</td>\n",
       "      <td>16167</td>\n",
       "      <td>14464</td>\n",
       "      <td>27500</td>\n",
       "      <td>20305</td>\n",
       "      <td>27630</td>\n",
       "      <td>18777</td>\n",
       "      <td>...</td>\n",
       "      <td>20179</td>\n",
       "      <td>22398.0</td>\n",
       "      <td>42264</td>\n",
       "      <td>20434</td>\n",
       "      <td>6473</td>\n",
       "      <td>10724</td>\n",
       "      <td>5972</td>\n",
       "      <td>16090</td>\n",
       "      <td>30871</td>\n",
       "      <td>2010</td>\n",
       "    </tr>\n",
       "    <tr>\n",
       "      <th>3</th>\n",
       "      <td>0500000US01007</td>\n",
       "      <td>1007</td>\n",
       "      <td>Bibb County, Alabama</td>\n",
       "      <td>30453</td>\n",
       "      <td>45237</td>\n",
       "      <td>46064</td>\n",
       "      <td>34406</td>\n",
       "      <td>30288</td>\n",
       "      <td>36231</td>\n",
       "      <td>43403</td>\n",
       "      <td>...</td>\n",
       "      <td>13636</td>\n",
       "      <td>25474.0</td>\n",
       "      <td>36618</td>\n",
       "      <td>21632</td>\n",
       "      <td>16530</td>\n",
       "      <td>5114</td>\n",
       "      <td>20481</td>\n",
       "      <td>30956</td>\n",
       "      <td>33095</td>\n",
       "      <td>2010</td>\n",
       "    </tr>\n",
       "    <tr>\n",
       "      <th>4</th>\n",
       "      <td>0500000US01009</td>\n",
       "      <td>1009</td>\n",
       "      <td>Blount County, Alabama</td>\n",
       "      <td>30739</td>\n",
       "      <td>26909</td>\n",
       "      <td>25610</td>\n",
       "      <td>54375</td>\n",
       "      <td>33055</td>\n",
       "      <td>32084</td>\n",
       "      <td>33198</td>\n",
       "      <td>...</td>\n",
       "      <td>27553</td>\n",
       "      <td>31931.0</td>\n",
       "      <td>36631</td>\n",
       "      <td>29958</td>\n",
       "      <td>7535</td>\n",
       "      <td>10050</td>\n",
       "      <td>7282</td>\n",
       "      <td>25326</td>\n",
       "      <td>34838</td>\n",
       "      <td>2010</td>\n",
       "    </tr>\n",
       "    <tr>\n",
       "      <th>21993</th>\n",
       "      <td>0500000US56037</td>\n",
       "      <td>56037</td>\n",
       "      <td>Sweetwater County, Wyoming</td>\n",
       "      <td>40788</td>\n",
       "      <td>78417</td>\n",
       "      <td>30099</td>\n",
       "      <td>79416</td>\n",
       "      <td>40307</td>\n",
       "      <td>92950</td>\n",
       "      <td>41625</td>\n",
       "      <td>...</td>\n",
       "      <td>23750</td>\n",
       "      <td>29805.0</td>\n",
       "      <td>29235</td>\n",
       "      <td>30085</td>\n",
       "      <td>14116</td>\n",
       "      <td>18454</td>\n",
       "      <td>13422</td>\n",
       "      <td>29788</td>\n",
       "      <td>51554</td>\n",
       "      <td>2016</td>\n",
       "    </tr>\n",
       "    <tr>\n",
       "      <th>21994</th>\n",
       "      <td>0500000US56039</td>\n",
       "      <td>56039</td>\n",
       "      <td>Teton County, Wyoming</td>\n",
       "      <td>36254</td>\n",
       "      <td>20139</td>\n",
       "      <td>20104</td>\n",
       "      <td>25139</td>\n",
       "      <td>40943</td>\n",
       "      <td>40769</td>\n",
       "      <td>50203</td>\n",
       "      <td>...</td>\n",
       "      <td>40873</td>\n",
       "      <td>50262.0</td>\n",
       "      <td>40184</td>\n",
       "      <td>51313</td>\n",
       "      <td>26343</td>\n",
       "      <td>36731</td>\n",
       "      <td>24551</td>\n",
       "      <td>23785</td>\n",
       "      <td>39293</td>\n",
       "      <td>2016</td>\n",
       "    </tr>\n",
       "    <tr>\n",
       "      <th>21995</th>\n",
       "      <td>0500000US56041</td>\n",
       "      <td>56041</td>\n",
       "      <td>Uinta County, Wyoming</td>\n",
       "      <td>30106</td>\n",
       "      <td>82877</td>\n",
       "      <td>34063</td>\n",
       "      <td>86217</td>\n",
       "      <td>23618</td>\n",
       "      <td>61607</td>\n",
       "      <td>55461</td>\n",
       "      <td>...</td>\n",
       "      <td>13722</td>\n",
       "      <td>27728.0</td>\n",
       "      <td>26211</td>\n",
       "      <td>28207</td>\n",
       "      <td>8277</td>\n",
       "      <td>5656</td>\n",
       "      <td>9177</td>\n",
       "      <td>31136</td>\n",
       "      <td>44052</td>\n",
       "      <td>2016</td>\n",
       "    </tr>\n",
       "    <tr>\n",
       "      <th>21996</th>\n",
       "      <td>0500000US56043</td>\n",
       "      <td>56043</td>\n",
       "      <td>Washakie County, Wyoming</td>\n",
       "      <td>32336</td>\n",
       "      <td>29844</td>\n",
       "      <td>25139</td>\n",
       "      <td>54773</td>\n",
       "      <td>38902</td>\n",
       "      <td>38664</td>\n",
       "      <td>36759</td>\n",
       "      <td>...</td>\n",
       "      <td>33365</td>\n",
       "      <td>27305.0</td>\n",
       "      <td>46667</td>\n",
       "      <td>22335</td>\n",
       "      <td>9211</td>\n",
       "      <td>7375</td>\n",
       "      <td>9866</td>\n",
       "      <td>20913</td>\n",
       "      <td>42708</td>\n",
       "      <td>2016</td>\n",
       "    </tr>\n",
       "    <tr>\n",
       "      <th>21997</th>\n",
       "      <td>0500000US56045</td>\n",
       "      <td>56045</td>\n",
       "      <td>Weston County, Wyoming</td>\n",
       "      <td>41058</td>\n",
       "      <td>70375</td>\n",
       "      <td>23173</td>\n",
       "      <td>75417</td>\n",
       "      <td>42650</td>\n",
       "      <td>42102</td>\n",
       "      <td>75000</td>\n",
       "      <td>...</td>\n",
       "      <td>40833</td>\n",
       "      <td>23462.0</td>\n",
       "      <td>23510</td>\n",
       "      <td>22440</td>\n",
       "      <td>20104</td>\n",
       "      <td>33750</td>\n",
       "      <td>14728</td>\n",
       "      <td>23125</td>\n",
       "      <td>40588</td>\n",
       "      <td>2016</td>\n",
       "    </tr>\n",
       "  </tbody>\n",
       "</table>\n",
       "<p>10 rows × 31 columns</p>\n",
       "</div>"
      ],
      "text/plain": [
       "               geo_id   fips                      county  total_med  \\\n",
       "0      0500000US01001   1001     Autauga County, Alabama      31811   \n",
       "1      0500000US01003   1003     Baldwin County, Alabama      30099   \n",
       "2      0500000US01005   1005     Barbour County, Alabama      23504   \n",
       "3      0500000US01007   1007        Bibb County, Alabama      30453   \n",
       "4      0500000US01009   1009      Blount County, Alabama      30739   \n",
       "21993  0500000US56037  56037  Sweetwater County, Wyoming      40788   \n",
       "21994  0500000US56039  56039       Teton County, Wyoming      36254   \n",
       "21995  0500000US56041  56041       Uinta County, Wyoming      30106   \n",
       "21996  0500000US56043  56043    Washakie County, Wyoming      32336   \n",
       "21997  0500000US56045  56045      Weston County, Wyoming      41058   \n",
       "\n",
       "      total_agri_fish_mine agri_fish_hunt mining_quarrying_oilgas_extract  \\\n",
       "0                    31793          31957                           22357   \n",
       "1                    33173          27342                           80938   \n",
       "2                    16167          14464                           27500   \n",
       "3                    45237          46064                           34406   \n",
       "4                    26909          25610                           54375   \n",
       "21993                78417          30099                           79416   \n",
       "21994                20139          20104                           25139   \n",
       "21995                82877          34063                           86217   \n",
       "21996                29844          25139                           54773   \n",
       "21997                70375          23173                           75417   \n",
       "\n",
       "      construction manufacturing wholesale_trade  ... admin_sup  \\\n",
       "0            30347         44452           38203  ...     31250   \n",
       "1            30068         41917           43444  ...     23910   \n",
       "2            20305         27630           18777  ...     20179   \n",
       "3            30288         36231           43403  ...     13636   \n",
       "4            33055         32084           33198  ...     27553   \n",
       "21993        40307         92950           41625  ...     23750   \n",
       "21994        40943         40769           50203  ...     40873   \n",
       "21995        23618         61607           55461  ...     13722   \n",
       "21996        38902         38664           36759  ...     33365   \n",
       "21997        42650         42102           75000  ...     40833   \n",
       "\n",
       "      total_edu_health_social edu_serv health_social total_arts_ent_acc_food  \\\n",
       "0                     30306.0    34358         26839                   11231   \n",
       "1                     34506.0    37341         30968                   14924   \n",
       "2                     22398.0    42264         20434                    6473   \n",
       "3                     25474.0    36618         21632                   16530   \n",
       "4                     31931.0    36631         29958                    7535   \n",
       "21993                 29805.0    29235         30085                   14116   \n",
       "21994                 50262.0    40184         51313                   26343   \n",
       "21995                 27728.0    26211         28207                    8277   \n",
       "21996                 27305.0    46667         22335                    9211   \n",
       "21997                 23462.0    23510         22440                   20104   \n",
       "\n",
       "      arts_ent_rec acc_food_serv other_ser pub_admin  year  \n",
       "0            10272         11430     26279     46858  2010  \n",
       "1            17414         14765     21440     38629  2010  \n",
       "2            10724          5972     16090     30871  2010  \n",
       "3             5114         20481     30956     33095  2010  \n",
       "4            10050          7282     25326     34838  2010  \n",
       "21993        18454         13422     29788     51554  2016  \n",
       "21994        36731         24551     23785     39293  2016  \n",
       "21995         5656          9177     31136     44052  2016  \n",
       "21996         7375          9866     20913     42708  2016  \n",
       "21997        33750         14728     23125     40588  2016  \n",
       "\n",
       "[10 rows x 31 columns]"
      ]
     },
     "execution_count": 10,
     "metadata": {},
     "output_type": "execute_result"
    }
   ],
   "source": [
    "df_earnings = pd.read_csv(\"datasets/earnings.csv\", encoding='latin-1')\n",
    "df_earnings.head(5).append(df_earnings.tail(5))"
   ]
  },
  {
   "cell_type": "code",
   "execution_count": null,
   "metadata": {},
   "outputs": [],
   "source": []
  }
 ],
 "metadata": {
  "kernelspec": {
   "display_name": "Python 3",
   "language": "python",
   "name": "python3"
  },
  "language_info": {
   "codemirror_mode": {
    "name": "ipython",
    "version": 3
   },
   "file_extension": ".py",
   "mimetype": "text/x-python",
   "name": "python",
   "nbconvert_exporter": "python",
   "pygments_lexer": "ipython3",
   "version": "3.8.5"
  }
 },
 "nbformat": 4,
 "nbformat_minor": 4
}
